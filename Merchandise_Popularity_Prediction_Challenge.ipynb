{
  "nbformat": 4,
  "nbformat_minor": 0,
  "metadata": {
    "colab": {
      "name": "Merchandise Popularity Prediction Challenge.ipynb",
      "provenance": [],
      "collapsed_sections": [],
      "authorship_tag": "ABX9TyOLExgGrb1XUf7/VFY3m4i8",
      "include_colab_link": true
    },
    "kernelspec": {
      "name": "python3",
      "display_name": "Python 3"
    }
  },
  "cells": [
    {
      "cell_type": "markdown",
      "metadata": {
        "id": "view-in-github",
        "colab_type": "text"
      },
      "source": [
        "<a href=\"https://colab.research.google.com/github/projjal1/Machine-Learning-Sklearn/blob/main/Merchandise_Popularity_Prediction_Challenge.ipynb\" target=\"_parent\"><img src=\"https://colab.research.google.com/assets/colab-badge.svg\" alt=\"Open In Colab\"/></a>"
      ]
    },
    {
      "cell_type": "markdown",
      "metadata": {
        "id": "HsYXCFRFWqRx"
      },
      "source": [
        "Machine Learning Challenge for problem statement in https://www.machinehack.com/hackathons/merchandise_popularity_prediction_challenge/overview"
      ]
    },
    {
      "cell_type": "code",
      "metadata": {
        "id": "GlLpn6pxWmlv"
      },
      "source": [
        "#Import all the modules\n",
        "import sklearn\n",
        "import pandas as pd"
      ],
      "execution_count": null,
      "outputs": []
    },
    {
      "cell_type": "code",
      "metadata": {
        "colab": {
          "base_uri": "https://localhost:8080/",
          "height": 194
        },
        "id": "9PtoxAWbXGVM",
        "outputId": "4fd2b2df-8922-4ba6-c45a-f29b77c3dead"
      },
      "source": [
        "#Import dataset \n",
        "tr_data=pd.read_csv('Train.csv')\n",
        "tr_data.head(5)"
      ],
      "execution_count": null,
      "outputs": [
        {
          "output_type": "execute_result",
          "data": {
            "text/html": [
              "<div>\n",
              "<style scoped>\n",
              "    .dataframe tbody tr th:only-of-type {\n",
              "        vertical-align: middle;\n",
              "    }\n",
              "\n",
              "    .dataframe tbody tr th {\n",
              "        vertical-align: top;\n",
              "    }\n",
              "\n",
              "    .dataframe thead th {\n",
              "        text-align: right;\n",
              "    }\n",
              "</style>\n",
              "<table border=\"1\" class=\"dataframe\">\n",
              "  <thead>\n",
              "    <tr style=\"text-align: right;\">\n",
              "      <th></th>\n",
              "      <th>Store_Ratio</th>\n",
              "      <th>Basket_Ratio</th>\n",
              "      <th>Category_1</th>\n",
              "      <th>Store_Score</th>\n",
              "      <th>Category_2</th>\n",
              "      <th>Store_Presence</th>\n",
              "      <th>Score_1</th>\n",
              "      <th>Score_2</th>\n",
              "      <th>Score_3</th>\n",
              "      <th>Score_4</th>\n",
              "      <th>time</th>\n",
              "      <th>popularity</th>\n",
              "    </tr>\n",
              "  </thead>\n",
              "  <tbody>\n",
              "    <tr>\n",
              "      <th>0</th>\n",
              "      <td>0.407</td>\n",
              "      <td>0.00380</td>\n",
              "      <td>2</td>\n",
              "      <td>-35.865</td>\n",
              "      <td>1</td>\n",
              "      <td>0.9920</td>\n",
              "      <td>0.944</td>\n",
              "      <td>0.0988</td>\n",
              "      <td>0.1100</td>\n",
              "      <td>113.911</td>\n",
              "      <td>189125</td>\n",
              "      <td>4</td>\n",
              "    </tr>\n",
              "    <tr>\n",
              "      <th>1</th>\n",
              "      <td>0.234</td>\n",
              "      <td>0.10500</td>\n",
              "      <td>0</td>\n",
              "      <td>-19.884</td>\n",
              "      <td>1</td>\n",
              "      <td>0.9440</td>\n",
              "      <td>0.900</td>\n",
              "      <td>0.1290</td>\n",
              "      <td>0.0382</td>\n",
              "      <td>76.332</td>\n",
              "      <td>186513</td>\n",
              "      <td>4</td>\n",
              "    </tr>\n",
              "    <tr>\n",
              "      <th>2</th>\n",
              "      <td>0.668</td>\n",
              "      <td>0.72600</td>\n",
              "      <td>9</td>\n",
              "      <td>-7.512</td>\n",
              "      <td>1</td>\n",
              "      <td>0.0387</td>\n",
              "      <td>0.000</td>\n",
              "      <td>0.1340</td>\n",
              "      <td>0.4530</td>\n",
              "      <td>124.075</td>\n",
              "      <td>172143</td>\n",
              "      <td>4</td>\n",
              "    </tr>\n",
              "    <tr>\n",
              "      <th>3</th>\n",
              "      <td>0.184</td>\n",
              "      <td>0.00561</td>\n",
              "      <td>4</td>\n",
              "      <td>-34.357</td>\n",
              "      <td>1</td>\n",
              "      <td>0.8490</td>\n",
              "      <td>0.931</td>\n",
              "      <td>0.1110</td>\n",
              "      <td>0.0641</td>\n",
              "      <td>79.037</td>\n",
              "      <td>184000</td>\n",
              "      <td>5</td>\n",
              "    </tr>\n",
              "    <tr>\n",
              "      <th>4</th>\n",
              "      <td>0.231</td>\n",
              "      <td>0.13100</td>\n",
              "      <td>6</td>\n",
              "      <td>-22.842</td>\n",
              "      <td>1</td>\n",
              "      <td>0.9370</td>\n",
              "      <td>0.000</td>\n",
              "      <td>0.1090</td>\n",
              "      <td>0.0677</td>\n",
              "      <td>109.560</td>\n",
              "      <td>186507</td>\n",
              "      <td>3</td>\n",
              "    </tr>\n",
              "  </tbody>\n",
              "</table>\n",
              "</div>"
            ],
            "text/plain": [
              "   Store_Ratio  Basket_Ratio  Category_1  ...  Score_4    time  popularity\n",
              "0        0.407       0.00380           2  ...  113.911  189125           4\n",
              "1        0.234       0.10500           0  ...   76.332  186513           4\n",
              "2        0.668       0.72600           9  ...  124.075  172143           4\n",
              "3        0.184       0.00561           4  ...   79.037  184000           5\n",
              "4        0.231       0.13100           6  ...  109.560  186507           3\n",
              "\n",
              "[5 rows x 12 columns]"
            ]
          },
          "metadata": {
            "tags": []
          },
          "execution_count": 15
        }
      ]
    },
    {
      "cell_type": "code",
      "metadata": {
        "colab": {
          "base_uri": "https://localhost:8080/"
        },
        "id": "J5uRg2o6XSDi",
        "outputId": "0106dbf2-df30-4d34-b56e-bf720eafb7b7"
      },
      "source": [
        "tr_data.shape"
      ],
      "execution_count": null,
      "outputs": [
        {
          "output_type": "execute_result",
          "data": {
            "text/plain": [
              "(18208, 12)"
            ]
          },
          "metadata": {
            "tags": []
          },
          "execution_count": 16
        }
      ]
    },
    {
      "cell_type": "code",
      "metadata": {
        "id": "NQlqFcueXWWn"
      },
      "source": [
        "#Dropping label column\n",
        "tr_labels=tr_data['popularity']\n",
        "tr_data=tr_data.drop(['popularity'],axis=1)"
      ],
      "execution_count": null,
      "outputs": []
    },
    {
      "cell_type": "code",
      "metadata": {
        "id": "57uU7lupYASz"
      },
      "source": [
        "from sklearn.model_selection import train_test_split\n",
        "\n",
        "#Splitting into training and testing set \n",
        "tr_x,ts_x,tr_y,ts_y=train_test_split(tr_data,tr_labels,test_size=0.3)"
      ],
      "execution_count": null,
      "outputs": []
    },
    {
      "cell_type": "code",
      "metadata": {
        "colab": {
          "base_uri": "https://localhost:8080/"
        },
        "id": "Gwg750jbuQ4s",
        "outputId": "e3c68f0a-f35f-41a4-b3ed-1dc60e269de6"
      },
      "source": [
        "from sklearn.ensemble import RandomForestClassifier\n",
        "\n",
        "model=RandomForestClassifier(n_estimators=1000)\n",
        "\n",
        "#Fit the data \n",
        "model.fit(tr_x,tr_y.values.ravel())\n",
        "\n",
        "#Get the score\n",
        "model.score(ts_x,ts_y.values.ravel())"
      ],
      "execution_count": null,
      "outputs": [
        {
          "output_type": "execute_result",
          "data": {
            "text/plain": [
              "0.8824821526633718"
            ]
          },
          "metadata": {
            "tags": []
          },
          "execution_count": 33
        }
      ]
    },
    {
      "cell_type": "code",
      "metadata": {
        "colab": {
          "base_uri": "https://localhost:8080/",
          "height": 194
        },
        "id": "c2_1lKWiZnsr",
        "outputId": "f9d156d7-fa11-4341-c518-89cc27f6c688"
      },
      "source": [
        "#Load the test data \n",
        "predict_data=pd.read_csv('Test.csv')\n",
        "predict_data.head(5)"
      ],
      "execution_count": null,
      "outputs": [
        {
          "output_type": "execute_result",
          "data": {
            "text/html": [
              "<div>\n",
              "<style scoped>\n",
              "    .dataframe tbody tr th:only-of-type {\n",
              "        vertical-align: middle;\n",
              "    }\n",
              "\n",
              "    .dataframe tbody tr th {\n",
              "        vertical-align: top;\n",
              "    }\n",
              "\n",
              "    .dataframe thead th {\n",
              "        text-align: right;\n",
              "    }\n",
              "</style>\n",
              "<table border=\"1\" class=\"dataframe\">\n",
              "  <thead>\n",
              "    <tr style=\"text-align: right;\">\n",
              "      <th></th>\n",
              "      <th>Store_Ratio</th>\n",
              "      <th>Basket_Ratio</th>\n",
              "      <th>Category_1</th>\n",
              "      <th>Store_Score</th>\n",
              "      <th>Category_2</th>\n",
              "      <th>Store_Presence</th>\n",
              "      <th>Score_1</th>\n",
              "      <th>Score_2</th>\n",
              "      <th>Score_3</th>\n",
              "      <th>Score_4</th>\n",
              "      <th>time</th>\n",
              "    </tr>\n",
              "  </thead>\n",
              "  <tbody>\n",
              "    <tr>\n",
              "      <th>0</th>\n",
              "      <td>0.164</td>\n",
              "      <td>0.994</td>\n",
              "      <td>1</td>\n",
              "      <td>-23.718</td>\n",
              "      <td>0</td>\n",
              "      <td>0.12400</td>\n",
              "      <td>0.99100</td>\n",
              "      <td>0.7890</td>\n",
              "      <td>0.00001</td>\n",
              "      <td>127.602</td>\n",
              "      <td>236436</td>\n",
              "    </tr>\n",
              "    <tr>\n",
              "      <th>1</th>\n",
              "      <td>0.586</td>\n",
              "      <td>0.636</td>\n",
              "      <td>4</td>\n",
              "      <td>-7.710</td>\n",
              "      <td>1</td>\n",
              "      <td>0.00208</td>\n",
              "      <td>0.32200</td>\n",
              "      <td>0.1070</td>\n",
              "      <td>0.35500</td>\n",
              "      <td>136.337</td>\n",
              "      <td>253631</td>\n",
              "    </tr>\n",
              "    <tr>\n",
              "      <th>2</th>\n",
              "      <td>0.457</td>\n",
              "      <td>0.743</td>\n",
              "      <td>0</td>\n",
              "      <td>-7.591</td>\n",
              "      <td>1</td>\n",
              "      <td>0.40400</td>\n",
              "      <td>0.00931</td>\n",
              "      <td>0.2010</td>\n",
              "      <td>0.68800</td>\n",
              "      <td>154.902</td>\n",
              "      <td>215669</td>\n",
              "    </tr>\n",
              "    <tr>\n",
              "      <th>3</th>\n",
              "      <td>0.423</td>\n",
              "      <td>0.748</td>\n",
              "      <td>5</td>\n",
              "      <td>-9.832</td>\n",
              "      <td>1</td>\n",
              "      <td>0.03000</td>\n",
              "      <td>0.22100</td>\n",
              "      <td>0.1690</td>\n",
              "      <td>0.42800</td>\n",
              "      <td>93.977</td>\n",
              "      <td>325200</td>\n",
              "    </tr>\n",
              "    <tr>\n",
              "      <th>4</th>\n",
              "      <td>0.802</td>\n",
              "      <td>0.756</td>\n",
              "      <td>2</td>\n",
              "      <td>-10.791</td>\n",
              "      <td>0</td>\n",
              "      <td>0.08430</td>\n",
              "      <td>0.00765</td>\n",
              "      <td>0.0521</td>\n",
              "      <td>0.96300</td>\n",
              "      <td>131.715</td>\n",
              "      <td>288293</td>\n",
              "    </tr>\n",
              "  </tbody>\n",
              "</table>\n",
              "</div>"
            ],
            "text/plain": [
              "   Store_Ratio  Basket_Ratio  Category_1  ...  Score_3  Score_4    time\n",
              "0        0.164         0.994           1  ...  0.00001  127.602  236436\n",
              "1        0.586         0.636           4  ...  0.35500  136.337  253631\n",
              "2        0.457         0.743           0  ...  0.68800  154.902  215669\n",
              "3        0.423         0.748           5  ...  0.42800   93.977  325200\n",
              "4        0.802         0.756           2  ...  0.96300  131.715  288293\n",
              "\n",
              "[5 rows x 11 columns]"
            ]
          },
          "metadata": {
            "tags": []
          },
          "execution_count": 34
        }
      ]
    },
    {
      "cell_type": "code",
      "metadata": {
        "id": "8oJnXZvFZ7tj"
      },
      "source": [
        "predictions=model.predict(predict_data)"
      ],
      "execution_count": null,
      "outputs": []
    },
    {
      "cell_type": "code",
      "metadata": {
        "colab": {
          "base_uri": "https://localhost:8080/"
        },
        "id": "aPjT3tietg1T",
        "outputId": "c1c63d8a-a0b6-42df-c9ad-cf79bd0159e0"
      },
      "source": [
        "predictions"
      ],
      "execution_count": null,
      "outputs": [
        {
          "output_type": "execute_result",
          "data": {
            "text/plain": [
              "array([3, 4, 4, ..., 4, 4, 4])"
            ]
          },
          "metadata": {
            "tags": []
          },
          "execution_count": 36
        }
      ]
    },
    {
      "cell_type": "code",
      "metadata": {
        "id": "nppacTRmapK7"
      },
      "source": [
        "output_formatted=[]\n",
        "for each in predictions:\n",
        "  app=[]\n",
        "  for var in [0,1,3,4,5]:\n",
        "    if each!=var:\n",
        "      app.append('0')\n",
        "    else:\n",
        "      app.append('1')\n",
        "  output_formatted.append(app)"
      ],
      "execution_count": null,
      "outputs": []
    },
    {
      "cell_type": "code",
      "metadata": {
        "id": "VyqxFfdBaEXc"
      },
      "source": [
        "fout=open('sample_submission.csv','w')\n",
        "fout.write(','.join(['0','1','3','4','5'])+'\\n')\n",
        "for each in output_formatted:\n",
        "  fout.write(','.join(each)+'\\n')\n",
        "fout.close()"
      ],
      "execution_count": null,
      "outputs": []
    }
  ]
}
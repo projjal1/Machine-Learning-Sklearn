{
  "nbformat": 4,
  "nbformat_minor": 0,
  "metadata": {
    "colab": {
      "name": "Mobile Network Attrition Predictor.ipynb",
      "provenance": [],
      "collapsed_sections": [],
      "authorship_tag": "ABX9TyOe/xoc68lkW7MmDZ4+RAsk",
      "include_colab_link": true
    },
    "kernelspec": {
      "name": "python3",
      "display_name": "Python 3"
    }
  },
  "cells": [
    {
      "cell_type": "markdown",
      "metadata": {
        "id": "view-in-github",
        "colab_type": "text"
      },
      "source": [
        "<a href=\"https://colab.research.google.com/github/projjal1/Machine-Learning-Sklearn/blob/main/Mobile_Network_Attrition_Predictor.ipynb\" target=\"_parent\"><img src=\"https://colab.research.google.com/assets/colab-badge.svg\" alt=\"Open In Colab\"/></a>"
      ]
    },
    {
      "cell_type": "markdown",
      "metadata": {
        "id": "uq5B10MDLSYe"
      },
      "source": [
        "### Motivation \n",
        "Telecom is nowadays a huge sector that involves stiff competition among services offered by companies.<br>\n",
        "This problem task is to predict the attrition rate of customers based on variuos factors:<br>\n",
        "Income, Months on network, Monthly bill .. etc"
      ]
    },
    {
      "cell_type": "code",
      "metadata": {
        "id": "bnqLfHgJk1GH"
      },
      "source": [
        "import pandas as pd"
      ],
      "execution_count": null,
      "outputs": []
    },
    {
      "cell_type": "code",
      "metadata": {
        "colab": {
          "base_uri": "https://localhost:8080/",
          "height": 194
        },
        "id": "VmNw9d-pk_hy",
        "outputId": "a5177e5c-a54e-4272-fa93-35d7876a202c"
      },
      "source": [
        "#Import dataset from Github repo\n",
        "dataset=pd.read_csv(\"https://raw.githubusercontent.com/projjal1/datasets/master/Connect_Mobile__Attrition_Data_file.csv\")\n",
        "#Looking at few rows of data\n",
        "dataset.head(5)"
      ],
      "execution_count": null,
      "outputs": [
        {
          "output_type": "execute_result",
          "data": {
            "text/html": [
              "<div>\n",
              "<style scoped>\n",
              "    .dataframe tbody tr th:only-of-type {\n",
              "        vertical-align: middle;\n",
              "    }\n",
              "\n",
              "    .dataframe tbody tr th {\n",
              "        vertical-align: top;\n",
              "    }\n",
              "\n",
              "    .dataframe thead th {\n",
              "        text-align: right;\n",
              "    }\n",
              "</style>\n",
              "<table border=\"1\" class=\"dataframe\">\n",
              "  <thead>\n",
              "    <tr style=\"text-align: right;\">\n",
              "      <th></th>\n",
              "      <th>active_cust</th>\n",
              "      <th>income</th>\n",
              "      <th>expenditure</th>\n",
              "      <th>months_on_network</th>\n",
              "      <th>Num_complaints</th>\n",
              "      <th>number_plan_changes</th>\n",
              "      <th>relocated</th>\n",
              "      <th>monthly_bill</th>\n",
              "      <th>technical_issues_per_month</th>\n",
              "      <th>Speed_test_result</th>\n",
              "    </tr>\n",
              "  </thead>\n",
              "  <tbody>\n",
              "    <tr>\n",
              "      <th>0</th>\n",
              "      <td>0</td>\n",
              "      <td>1586</td>\n",
              "      <td>1268.8</td>\n",
              "      <td>85</td>\n",
              "      <td>4</td>\n",
              "      <td>1</td>\n",
              "      <td>0</td>\n",
              "      <td>121</td>\n",
              "      <td>4</td>\n",
              "      <td>85</td>\n",
              "    </tr>\n",
              "    <tr>\n",
              "      <th>1</th>\n",
              "      <td>0</td>\n",
              "      <td>1581</td>\n",
              "      <td>1264.8</td>\n",
              "      <td>85</td>\n",
              "      <td>4</td>\n",
              "      <td>1</td>\n",
              "      <td>0</td>\n",
              "      <td>133</td>\n",
              "      <td>4</td>\n",
              "      <td>85</td>\n",
              "    </tr>\n",
              "    <tr>\n",
              "      <th>2</th>\n",
              "      <td>0</td>\n",
              "      <td>1594</td>\n",
              "      <td>1275.2</td>\n",
              "      <td>82</td>\n",
              "      <td>4</td>\n",
              "      <td>1</td>\n",
              "      <td>0</td>\n",
              "      <td>118</td>\n",
              "      <td>4</td>\n",
              "      <td>85</td>\n",
              "    </tr>\n",
              "    <tr>\n",
              "      <th>3</th>\n",
              "      <td>0</td>\n",
              "      <td>1594</td>\n",
              "      <td>1275.2</td>\n",
              "      <td>82</td>\n",
              "      <td>4</td>\n",
              "      <td>1</td>\n",
              "      <td>0</td>\n",
              "      <td>123</td>\n",
              "      <td>4</td>\n",
              "      <td>85</td>\n",
              "    </tr>\n",
              "    <tr>\n",
              "      <th>4</th>\n",
              "      <td>1</td>\n",
              "      <td>1609</td>\n",
              "      <td>1287.2</td>\n",
              "      <td>80</td>\n",
              "      <td>4</td>\n",
              "      <td>1</td>\n",
              "      <td>0</td>\n",
              "      <td>177</td>\n",
              "      <td>4</td>\n",
              "      <td>85</td>\n",
              "    </tr>\n",
              "  </tbody>\n",
              "</table>\n",
              "</div>"
            ],
            "text/plain": [
              "   active_cust  income  ...  technical_issues_per_month  Speed_test_result\n",
              "0            0    1586  ...                           4                 85\n",
              "1            0    1581  ...                           4                 85\n",
              "2            0    1594  ...                           4                 85\n",
              "3            0    1594  ...                           4                 85\n",
              "4            1    1609  ...                           4                 85\n",
              "\n",
              "[5 rows x 10 columns]"
            ]
          },
          "metadata": {
            "tags": []
          },
          "execution_count": 2
        }
      ]
    },
    {
      "cell_type": "code",
      "metadata": {
        "colab": {
          "base_uri": "https://localhost:8080/"
        },
        "id": "rQDSp3DVpHHw",
        "outputId": "fedc666c-a0c9-4603-9931-accb92da5566"
      },
      "source": [
        "#No. of rows in dataset\n",
        "print(\"No. of rows in dataset:\",len(dataset))"
      ],
      "execution_count": null,
      "outputs": [
        {
          "output_type": "stream",
          "text": [
            "No. of rows in dataset: 100000\n"
          ],
          "name": "stdout"
        }
      ]
    },
    {
      "cell_type": "code",
      "metadata": {
        "colab": {
          "base_uri": "https://localhost:8080/"
        },
        "id": "zP_qL_4lm0fq",
        "outputId": "e21eb441-5eae-457c-e31b-75c296a12830"
      },
      "source": [
        "#There are no null columns\n",
        "dataset.isnull().sum()"
      ],
      "execution_count": null,
      "outputs": [
        {
          "output_type": "execute_result",
          "data": {
            "text/plain": [
              "active_cust                   0\n",
              "income                        0\n",
              "expenditure                   0\n",
              "months_on_network             0\n",
              "Num_complaints                0\n",
              "number_plan_changes           0\n",
              "relocated                     0\n",
              "monthly_bill                  0\n",
              "technical_issues_per_month    0\n",
              "Speed_test_result             0\n",
              "dtype: int64"
            ]
          },
          "metadata": {
            "tags": []
          },
          "execution_count": 4
        }
      ]
    },
    {
      "cell_type": "code",
      "metadata": {
        "id": "gmrxI7PKlC91"
      },
      "source": [
        "#Seaborn library for visualization\n",
        "import seaborn"
      ],
      "execution_count": null,
      "outputs": []
    },
    {
      "cell_type": "code",
      "metadata": {
        "id": "-10A9NJpx0fU"
      },
      "source": [
        "#Let's combine income and expenditure into one column 'savings'\n",
        "dataset['savings']=dataset['income']-dataset['expenditure']\n",
        "dataset.drop(['income','expenditure'],axis=1,inplace=True)"
      ],
      "execution_count": null,
      "outputs": []
    },
    {
      "cell_type": "code",
      "metadata": {
        "colab": {
          "base_uri": "https://localhost:8080/",
          "height": 194
        },
        "id": "1Vxvz77cyvZl",
        "outputId": "92e3a965-a361-407e-a9d6-06a99c6e6f19"
      },
      "source": [
        "#Looking at modified dataset \n",
        "dataset.head(5)"
      ],
      "execution_count": null,
      "outputs": [
        {
          "output_type": "execute_result",
          "data": {
            "text/html": [
              "<div>\n",
              "<style scoped>\n",
              "    .dataframe tbody tr th:only-of-type {\n",
              "        vertical-align: middle;\n",
              "    }\n",
              "\n",
              "    .dataframe tbody tr th {\n",
              "        vertical-align: top;\n",
              "    }\n",
              "\n",
              "    .dataframe thead th {\n",
              "        text-align: right;\n",
              "    }\n",
              "</style>\n",
              "<table border=\"1\" class=\"dataframe\">\n",
              "  <thead>\n",
              "    <tr style=\"text-align: right;\">\n",
              "      <th></th>\n",
              "      <th>active_cust</th>\n",
              "      <th>months_on_network</th>\n",
              "      <th>Num_complaints</th>\n",
              "      <th>number_plan_changes</th>\n",
              "      <th>relocated</th>\n",
              "      <th>monthly_bill</th>\n",
              "      <th>technical_issues_per_month</th>\n",
              "      <th>Speed_test_result</th>\n",
              "      <th>savings</th>\n",
              "    </tr>\n",
              "  </thead>\n",
              "  <tbody>\n",
              "    <tr>\n",
              "      <th>0</th>\n",
              "      <td>0</td>\n",
              "      <td>85</td>\n",
              "      <td>4</td>\n",
              "      <td>1</td>\n",
              "      <td>0</td>\n",
              "      <td>121</td>\n",
              "      <td>4</td>\n",
              "      <td>85</td>\n",
              "      <td>317.2</td>\n",
              "    </tr>\n",
              "    <tr>\n",
              "      <th>1</th>\n",
              "      <td>0</td>\n",
              "      <td>85</td>\n",
              "      <td>4</td>\n",
              "      <td>1</td>\n",
              "      <td>0</td>\n",
              "      <td>133</td>\n",
              "      <td>4</td>\n",
              "      <td>85</td>\n",
              "      <td>316.2</td>\n",
              "    </tr>\n",
              "    <tr>\n",
              "      <th>2</th>\n",
              "      <td>0</td>\n",
              "      <td>82</td>\n",
              "      <td>4</td>\n",
              "      <td>1</td>\n",
              "      <td>0</td>\n",
              "      <td>118</td>\n",
              "      <td>4</td>\n",
              "      <td>85</td>\n",
              "      <td>318.8</td>\n",
              "    </tr>\n",
              "    <tr>\n",
              "      <th>3</th>\n",
              "      <td>0</td>\n",
              "      <td>82</td>\n",
              "      <td>4</td>\n",
              "      <td>1</td>\n",
              "      <td>0</td>\n",
              "      <td>123</td>\n",
              "      <td>4</td>\n",
              "      <td>85</td>\n",
              "      <td>318.8</td>\n",
              "    </tr>\n",
              "    <tr>\n",
              "      <th>4</th>\n",
              "      <td>1</td>\n",
              "      <td>80</td>\n",
              "      <td>4</td>\n",
              "      <td>1</td>\n",
              "      <td>0</td>\n",
              "      <td>177</td>\n",
              "      <td>4</td>\n",
              "      <td>85</td>\n",
              "      <td>321.8</td>\n",
              "    </tr>\n",
              "  </tbody>\n",
              "</table>\n",
              "</div>"
            ],
            "text/plain": [
              "   active_cust  months_on_network  ...  Speed_test_result  savings\n",
              "0            0                 85  ...                 85    317.2\n",
              "1            0                 85  ...                 85    316.2\n",
              "2            0                 82  ...                 85    318.8\n",
              "3            0                 82  ...                 85    318.8\n",
              "4            1                 80  ...                 85    321.8\n",
              "\n",
              "[5 rows x 9 columns]"
            ]
          },
          "metadata": {
            "tags": []
          },
          "execution_count": 7
        }
      ]
    },
    {
      "cell_type": "code",
      "metadata": {
        "colab": {
          "base_uri": "https://localhost:8080/",
          "height": 402
        },
        "id": "6oGAt9ym2A8n",
        "outputId": "a7b04527-a33b-4e3c-c80a-a68379e9a81f"
      },
      "source": [
        "seaborn.catplot(x='monthly_bill',y='active_cust',kind=\"point\",data=dataset)"
      ],
      "execution_count": null,
      "outputs": [
        {
          "output_type": "execute_result",
          "data": {
            "text/plain": [
              "<seaborn.axisgrid.FacetGrid at 0x7f2967181c88>"
            ]
          },
          "metadata": {
            "tags": []
          },
          "execution_count": 8
        },
        {
          "output_type": "display_data",
          "data": {
            "image/png": "[encoded data removed]",
            "text/plain": [
              "<Figure size 360x360 with 1 Axes>"
            ]
          },
          "metadata": {
            "tags": [],
            "needs_background": "light"
          }
        }
      ]
    },
    {
      "cell_type": "code",
      "metadata": {
        "colab": {
          "base_uri": "https://localhost:8080/",
          "height": 1000
        },
        "id": "172AU3SvlPmZ",
        "outputId": "7e18115d-d4f3-4606-e9f9-214f779a3b49"
      },
      "source": [
        "#For each column we see that active customers decrease as stability is lost\n",
        "for cols in ['Num_complaints','number_plan_changes','relocated','technical_issues_per_month']:\n",
        "  seaborn.catplot(x=cols,y='active_cust',kind=\"point\",data=dataset)"
      ],
      "execution_count": null,
      "outputs": [
        {
          "output_type": "display_data",
          "data": {
            "image/png": "[encoded data removed]",
            "text/plain": [
              "<Figure size 360x360 with 1 Axes>"
            ]
          },
          "metadata": {
            "tags": [],
            "needs_background": "light"
          }
        },
        {
          "output_type": "display_data",
          "data": {
            "image/png": "[encoded data removed]",
            "text/plain": [
              "<Figure size 360x360 with 1 Axes>"
            ]
          },
          "metadata": {
            "tags": [],
            "needs_background": "light"
          }
        },
        {
          "output_type": "display_data",
          "data": {
            "image/png": "[encoded data removed]",
            "text/plain": [
              "<Figure size 360x360 with 1 Axes>"
            ]
          },
          "metadata": {
            "tags": [],
            "needs_background": "light"
          }
        },
        {
          "output_type": "display_data",
          "data": {
            "image/png": "[encoded data removed]",
            "text/plain": [
              "<Figure size 360x360 with 1 Axes>"
            ]
          },
          "metadata": {
            "tags": [],
            "needs_background": "light"
          }
        }
      ]
    },
    {
      "cell_type": "code",
      "metadata": {
        "colab": {
          "base_uri": "https://localhost:8080/",
          "height": 402
        },
        "id": "Q7IU2-ohnZzo",
        "outputId": "214e625c-ff31-4ee5-a519-5709aac6d714"
      },
      "source": [
        "#We see that as no. of technical issues increase plan change probability increases\n",
        "#But at some point it decreases where we do not have much data points\n",
        "seaborn.catplot(x='technical_issues_per_month',y='number_plan_changes',kind=\"point\",\n",
        "            data=dataset)"
      ],
      "execution_count": null,
      "outputs": [
        {
          "output_type": "execute_result",
          "data": {
            "text/plain": [
              "<seaborn.axisgrid.FacetGrid at 0x7f2965e79be0>"
            ]
          },
          "metadata": {
            "tags": []
          },
          "execution_count": 10
        },
        {
          "output_type": "display_data",
          "data": {
            "image/png": "[encoded data removed]",
            "text/plain": [
              "<Figure size 360x360 with 1 Axes>"
            ]
          },
          "metadata": {
            "tags": [],
            "needs_background": "light"
          }
        }
      ]
    },
    {
      "cell_type": "code",
      "metadata": {
        "colab": {
          "base_uri": "https://localhost:8080/",
          "height": 402
        },
        "id": "o5zX2OKcn7-e",
        "outputId": "d3f511b8-824c-4899-929a-5f3f7febc0ee"
      },
      "source": [
        "#Thus we conclude the relationship is not linear\n",
        "#And we cannot merge both columns into one categorical column\n",
        "seaborn.catplot(x='Num_complaints',y='technical_issues_per_month',kind=\"point\",\n",
        "                data=dataset)"
      ],
      "execution_count": null,
      "outputs": [
        {
          "output_type": "execute_result",
          "data": {
            "text/plain": [
              "<seaborn.axisgrid.FacetGrid at 0x7f295d469668>"
            ]
          },
          "metadata": {
            "tags": []
          },
          "execution_count": 11
        },
        {
          "output_type": "display_data",
          "data": {
            "image/png": "[encoded data removed]",
            "text/plain": [
              "<Figure size 360x360 with 1 Axes>"
            ]
          },
          "metadata": {
            "tags": [],
            "needs_background": "light"
          }
        }
      ]
    },
    {
      "cell_type": "code",
      "metadata": {
        "id": "bTZ9-Bpnpifw"
      },
      "source": [
        "#Split into labels and columns\n",
        "labels=dataset['active_cust']\n",
        "dataset.drop(['active_cust'],axis=1,inplace=True)"
      ],
      "execution_count": null,
      "outputs": []
    },
    {
      "cell_type": "code",
      "metadata": {
        "colab": {
          "base_uri": "https://localhost:8080/",
          "height": 360
        },
        "id": "Tu8WGPHPqAGR",
        "outputId": "5c2284a5-b8a6-489c-eaa2-a6402eb268aa"
      },
      "source": [
        "#Looking at few labels and data\n",
        "print(labels[:10])\n",
        "dataset.head(4)"
      ],
      "execution_count": null,
      "outputs": [
        {
          "output_type": "stream",
          "text": [
            "0    0\n",
            "1    0\n",
            "2    0\n",
            "3    0\n",
            "4    1\n",
            "5    1\n",
            "6    1\n",
            "7    1\n",
            "8    1\n",
            "9    1\n",
            "Name: active_cust, dtype: int64\n"
          ],
          "name": "stdout"
        },
        {
          "output_type": "execute_result",
          "data": {
            "text/html": [
              "<div>\n",
              "<style scoped>\n",
              "    .dataframe tbody tr th:only-of-type {\n",
              "        vertical-align: middle;\n",
              "    }\n",
              "\n",
              "    .dataframe tbody tr th {\n",
              "        vertical-align: top;\n",
              "    }\n",
              "\n",
              "    .dataframe thead th {\n",
              "        text-align: right;\n",
              "    }\n",
              "</style>\n",
              "<table border=\"1\" class=\"dataframe\">\n",
              "  <thead>\n",
              "    <tr style=\"text-align: right;\">\n",
              "      <th></th>\n",
              "      <th>months_on_network</th>\n",
              "      <th>Num_complaints</th>\n",
              "      <th>number_plan_changes</th>\n",
              "      <th>relocated</th>\n",
              "      <th>monthly_bill</th>\n",
              "      <th>technical_issues_per_month</th>\n",
              "      <th>Speed_test_result</th>\n",
              "      <th>savings</th>\n",
              "    </tr>\n",
              "  </thead>\n",
              "  <tbody>\n",
              "    <tr>\n",
              "      <th>0</th>\n",
              "      <td>85</td>\n",
              "      <td>4</td>\n",
              "      <td>1</td>\n",
              "      <td>0</td>\n",
              "      <td>121</td>\n",
              "      <td>4</td>\n",
              "      <td>85</td>\n",
              "      <td>317.2</td>\n",
              "    </tr>\n",
              "    <tr>\n",
              "      <th>1</th>\n",
              "      <td>85</td>\n",
              "      <td>4</td>\n",
              "      <td>1</td>\n",
              "      <td>0</td>\n",
              "      <td>133</td>\n",
              "      <td>4</td>\n",
              "      <td>85</td>\n",
              "      <td>316.2</td>\n",
              "    </tr>\n",
              "    <tr>\n",
              "      <th>2</th>\n",
              "      <td>82</td>\n",
              "      <td>4</td>\n",
              "      <td>1</td>\n",
              "      <td>0</td>\n",
              "      <td>118</td>\n",
              "      <td>4</td>\n",
              "      <td>85</td>\n",
              "      <td>318.8</td>\n",
              "    </tr>\n",
              "    <tr>\n",
              "      <th>3</th>\n",
              "      <td>82</td>\n",
              "      <td>4</td>\n",
              "      <td>1</td>\n",
              "      <td>0</td>\n",
              "      <td>123</td>\n",
              "      <td>4</td>\n",
              "      <td>85</td>\n",
              "      <td>318.8</td>\n",
              "    </tr>\n",
              "  </tbody>\n",
              "</table>\n",
              "</div>"
            ],
            "text/plain": [
              "   months_on_network  Num_complaints  ...  Speed_test_result  savings\n",
              "0                 85               4  ...                 85    317.2\n",
              "1                 85               4  ...                 85    316.2\n",
              "2                 82               4  ...                 85    318.8\n",
              "3                 82               4  ...                 85    318.8\n",
              "\n",
              "[4 rows x 8 columns]"
            ]
          },
          "metadata": {
            "tags": []
          },
          "execution_count": 13
        }
      ]
    },
    {
      "cell_type": "code",
      "metadata": {
        "id": "RP-bW-zzo9jA"
      },
      "source": [
        "from sklearn.model_selection import train_test_split\n",
        "\n",
        "#Split data into test,train and validation\n",
        "train_x,test_x,train_y,test_y=train_test_split(dataset,labels,test_size=0.4)\n",
        "val_x,test_x,val_y,test_y=train_test_split(test_x,test_y,test_size=0.5)"
      ],
      "execution_count": null,
      "outputs": []
    },
    {
      "cell_type": "code",
      "metadata": {
        "colab": {
          "base_uri": "https://localhost:8080/"
        },
        "id": "FUmHVhCwquic",
        "outputId": "2540e3e1-31e3-4789-ad74-6605fb694d64"
      },
      "source": [
        "print(\"No of records in train data:\",len(train_x))\n",
        "print(\"No of records in test data:\",len(test_x))\n",
        "print(\"No of records in validation data:\",len(val_x))"
      ],
      "execution_count": null,
      "outputs": [
        {
          "output_type": "stream",
          "text": [
            "No of records in train data: 60000\n",
            "No of records in test data: 20000\n",
            "No of records in validation data: 20000\n"
          ],
          "name": "stdout"
        }
      ]
    },
    {
      "cell_type": "code",
      "metadata": {
        "id": "2jWoL8SLte6J"
      },
      "source": [
        "from sklearn.ensemble import RandomForestClassifier\n",
        "model=RandomForestClassifier(n_estimators=500)"
      ],
      "execution_count": null,
      "outputs": []
    },
    {
      "cell_type": "code",
      "metadata": {
        "colab": {
          "base_uri": "https://localhost:8080/"
        },
        "id": "GtVz_FGYnTRy",
        "outputId": "d3265aa2-6de2-4b09-ffb6-aff5e7bdb30a"
      },
      "source": [
        "model.fit(train_x,train_y)"
      ],
      "execution_count": null,
      "outputs": [
        {
          "output_type": "execute_result",
          "data": {
            "text/plain": [
              "RandomForestClassifier(bootstrap=True, ccp_alpha=0.0, class_weight=None,\n",
              "                       criterion='gini', max_depth=None, max_features='auto',\n",
              "                       max_leaf_nodes=None, max_samples=None,\n",
              "                       min_impurity_decrease=0.0, min_impurity_split=None,\n",
              "                       min_samples_leaf=1, min_samples_split=2,\n",
              "                       min_weight_fraction_leaf=0.0, n_estimators=500,\n",
              "                       n_jobs=None, oob_score=False, random_state=None,\n",
              "                       verbose=0, warm_start=False)"
            ]
          },
          "metadata": {
            "tags": []
          },
          "execution_count": 17
        }
      ]
    },
    {
      "cell_type": "code",
      "metadata": {
        "colab": {
          "base_uri": "https://localhost:8080/"
        },
        "id": "PxJ3-SpOrUlA",
        "outputId": "1dab31e1-444c-4164-9487-60b365ec4100"
      },
      "source": [
        "print(\"Accuracy on test data:\",model.score(test_x,test_y))"
      ],
      "execution_count": null,
      "outputs": [
        {
          "output_type": "stream",
          "text": [
            "Accuracy on test data: 0.8981\n"
          ],
          "name": "stdout"
        }
      ]
    },
    {
      "cell_type": "code",
      "metadata": {
        "colab": {
          "base_uri": "https://localhost:8080/"
        },
        "id": "6qXSuQIur2yN",
        "outputId": "cd373e3e-cd2c-4f5e-e192-903cb502bb32"
      },
      "source": [
        "#Obtaining predictions from model\n",
        "predictions=model.predict(val_x)\n",
        "true_values=val_y.values.ravel()\n",
        "\n",
        "#Counter variable \n",
        "counter=0\n",
        "\n",
        "#Counter for correct predictions\n",
        "for x in range(len(true_values)):\n",
        "  if predictions[x]==true_values[x]:\n",
        "    counter+=1\n",
        "print(\"Validation accuracy:\",counter/len(true_values))"
      ],
      "execution_count": null,
      "outputs": [
        {
          "output_type": "stream",
          "text": [
            "Validation accuracy: 0.9017\n"
          ],
          "name": "stdout"
        }
      ]
    }
  ]
}
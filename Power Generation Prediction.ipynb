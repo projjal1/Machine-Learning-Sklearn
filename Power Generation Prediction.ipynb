{
 "cells": [
  {
   "cell_type": "markdown",
   "metadata": {},
   "source": [
    "### Predict the power (KW/h) produced from the windmills\n",
    "Moving from traditional energy plans powered by fossils fuels to unlimited renewable energy subscriptions allows for instant access to clean energy without heavy investment in infrastructure like solar panels, for example.\n",
    "<br>\n",
    "One clean energy source that has been gaining popularity around the world is wind turbines. Turbines are massive structures that are strategically placed in perpetually windy places to generate the most energy. Wind energy is generated when the power of the atmosphere’s airflow is harnessed to create electricity. Wind turbines do this by capturing the kinetic energy of the wind. Factors such as temperature, wind direction, turbine status, weather, blade length, etc. influence the amount of power generated.\n",
    "\n",
    "### TASK\n",
    "Predict Power Generation value based on factors.\n",
    "\n",
    "### Challenge \n",
    "Challenge hosted at https://www.hackerearth.com/challenges/competitive/hackerearth-machine-learning-challenge-predict-windmill-power/"
   ]
  },
  {
   "cell_type": "code",
   "execution_count": 62,
   "metadata": {},
   "outputs": [],
   "source": [
    "#Importing pandas module to read dataset\n",
    "import pandas as pd"
   ]
  },
  {
   "cell_type": "code",
   "execution_count": 63,
   "metadata": {},
   "outputs": [],
   "source": [
    "#Reading the dataset into memory\n",
    "dataset=pd.read_csv(\"dataset/train.csv\")"
   ]
  },
  {
   "cell_type": "code",
   "execution_count": 64,
   "metadata": {},
   "outputs": [
    {
     "data": {
      "text/html": [
       "<div>\n",
       "<style scoped>\n",
       "    .dataframe tbody tr th:only-of-type {\n",
       "        vertical-align: middle;\n",
       "    }\n",
       "\n",
       "    .dataframe tbody tr th {\n",
       "        vertical-align: top;\n",
       "    }\n",
       "\n",
       "    .dataframe thead th {\n",
       "        text-align: right;\n",
       "    }\n",
       "</style>\n",
       "<table border=\"1\" class=\"dataframe\">\n",
       "  <thead>\n",
       "    <tr style=\"text-align: right;\">\n",
       "      <th></th>\n",
       "      <th>tracking_id</th>\n",
       "      <th>datetime</th>\n",
       "      <th>wind_speed(m/s)</th>\n",
       "      <th>atmospheric_temperature(°C)</th>\n",
       "      <th>shaft_temperature(°C)</th>\n",
       "      <th>blades_angle(°)</th>\n",
       "      <th>gearbox_temperature(°C)</th>\n",
       "      <th>engine_temperature(°C)</th>\n",
       "      <th>motor_torque(N-m)</th>\n",
       "      <th>generator_temperature(°C)</th>\n",
       "      <th>...</th>\n",
       "      <th>windmill_body_temperature(°C)</th>\n",
       "      <th>wind_direction(°)</th>\n",
       "      <th>resistance(ohm)</th>\n",
       "      <th>rotor_torque(N-m)</th>\n",
       "      <th>turbine_status</th>\n",
       "      <th>cloud_level</th>\n",
       "      <th>blade_length(m)</th>\n",
       "      <th>blade_breadth(m)</th>\n",
       "      <th>windmill_height(m)</th>\n",
       "      <th>windmill_generated_power(kW/h)</th>\n",
       "    </tr>\n",
       "  </thead>\n",
       "  <tbody>\n",
       "    <tr>\n",
       "      <th>0</th>\n",
       "      <td>WM_33725</td>\n",
       "      <td>2019-08-04 14:33:20</td>\n",
       "      <td>94.820023</td>\n",
       "      <td>-99.000000</td>\n",
       "      <td>41.723019</td>\n",
       "      <td>-0.903423</td>\n",
       "      <td>82.410573</td>\n",
       "      <td>42.523015</td>\n",
       "      <td>2563.124522</td>\n",
       "      <td>76.665560</td>\n",
       "      <td>...</td>\n",
       "      <td>NaN</td>\n",
       "      <td>239.836388</td>\n",
       "      <td>2730.310605</td>\n",
       "      <td>42.084666</td>\n",
       "      <td>BA</td>\n",
       "      <td>Medium</td>\n",
       "      <td>2.217542</td>\n",
       "      <td>0.314065</td>\n",
       "      <td>24.281689</td>\n",
       "      <td>6.766521</td>\n",
       "    </tr>\n",
       "    <tr>\n",
       "      <th>1</th>\n",
       "      <td>WM_698</td>\n",
       "      <td>2018-11-05 10:13:20</td>\n",
       "      <td>241.832734</td>\n",
       "      <td>27.764785</td>\n",
       "      <td>-99.000000</td>\n",
       "      <td>-99.000000</td>\n",
       "      <td>44.104919</td>\n",
       "      <td>46.258870</td>\n",
       "      <td>2372.384119</td>\n",
       "      <td>78.129803</td>\n",
       "      <td>...</td>\n",
       "      <td>NaN</td>\n",
       "      <td>337.944723</td>\n",
       "      <td>1780.207200</td>\n",
       "      <td>107.888643</td>\n",
       "      <td>A2</td>\n",
       "      <td>Medium</td>\n",
       "      <td>4.210346</td>\n",
       "      <td>0.448494</td>\n",
       "      <td>27.262139</td>\n",
       "      <td>5.966275</td>\n",
       "    </tr>\n",
       "    <tr>\n",
       "      <th>2</th>\n",
       "      <td>WM_39146</td>\n",
       "      <td>2019-09-14 14:03:20</td>\n",
       "      <td>95.484724</td>\n",
       "      <td>NaN</td>\n",
       "      <td>41.855473</td>\n",
       "      <td>12.652763</td>\n",
       "      <td>42.322098</td>\n",
       "      <td>42.878552</td>\n",
       "      <td>1657.169646</td>\n",
       "      <td>67.654469</td>\n",
       "      <td>...</td>\n",
       "      <td>45.033197</td>\n",
       "      <td>227.850294</td>\n",
       "      <td>1666.049900</td>\n",
       "      <td>-42.931459</td>\n",
       "      <td>ABC</td>\n",
       "      <td>Medium</td>\n",
       "      <td>2.719475</td>\n",
       "      <td>0.302321</td>\n",
       "      <td>27.366127</td>\n",
       "      <td>2.874342</td>\n",
       "    </tr>\n",
       "    <tr>\n",
       "      <th>3</th>\n",
       "      <td>WM_6757</td>\n",
       "      <td>2018-12-25 15:33:20</td>\n",
       "      <td>238.819424</td>\n",
       "      <td>-99.000000</td>\n",
       "      <td>45.443914</td>\n",
       "      <td>15.115323</td>\n",
       "      <td>44.759643</td>\n",
       "      <td>47.282101</td>\n",
       "      <td>2888.134079</td>\n",
       "      <td>95.389974</td>\n",
       "      <td>...</td>\n",
       "      <td>44.827154</td>\n",
       "      <td>492.081520</td>\n",
       "      <td>1964.502895</td>\n",
       "      <td>42.744596</td>\n",
       "      <td>ABC</td>\n",
       "      <td>NaN</td>\n",
       "      <td>4.857385</td>\n",
       "      <td>0.367140</td>\n",
       "      <td>24.287767</td>\n",
       "      <td>14.851089</td>\n",
       "    </tr>\n",
       "    <tr>\n",
       "      <th>4</th>\n",
       "      <td>WM_21521</td>\n",
       "      <td>2019-05-04 03:13:20</td>\n",
       "      <td>10.722890</td>\n",
       "      <td>NaN</td>\n",
       "      <td>41.981183</td>\n",
       "      <td>1.715696</td>\n",
       "      <td>-17.616459</td>\n",
       "      <td>43.469852</td>\n",
       "      <td>781.695419</td>\n",
       "      <td>37.423065</td>\n",
       "      <td>...</td>\n",
       "      <td>-99.000000</td>\n",
       "      <td>259.274601</td>\n",
       "      <td>1177.516152</td>\n",
       "      <td>13.387289</td>\n",
       "      <td>AAA</td>\n",
       "      <td>Medium</td>\n",
       "      <td>NaN</td>\n",
       "      <td>0.453374</td>\n",
       "      <td>27.971650</td>\n",
       "      <td>3.519074</td>\n",
       "    </tr>\n",
       "  </tbody>\n",
       "</table>\n",
       "<p>5 rows × 22 columns</p>\n",
       "</div>"
      ],
      "text/plain": [
       "  tracking_id             datetime  wind_speed(m/s)  \\\n",
       "0    WM_33725  2019-08-04 14:33:20        94.820023   \n",
       "1      WM_698  2018-11-05 10:13:20       241.832734   \n",
       "2    WM_39146  2019-09-14 14:03:20        95.484724   \n",
       "3     WM_6757  2018-12-25 15:33:20       238.819424   \n",
       "4    WM_21521  2019-05-04 03:13:20        10.722890   \n",
       "\n",
       "   atmospheric_temperature(°C)  shaft_temperature(°C)  blades_angle(°)  \\\n",
       "0                   -99.000000              41.723019        -0.903423   \n",
       "1                    27.764785             -99.000000       -99.000000   \n",
       "2                          NaN              41.855473        12.652763   \n",
       "3                   -99.000000              45.443914        15.115323   \n",
       "4                          NaN              41.981183         1.715696   \n",
       "\n",
       "   gearbox_temperature(°C)  engine_temperature(°C)  motor_torque(N-m)  \\\n",
       "0                82.410573               42.523015        2563.124522   \n",
       "1                44.104919               46.258870        2372.384119   \n",
       "2                42.322098               42.878552        1657.169646   \n",
       "3                44.759643               47.282101        2888.134079   \n",
       "4               -17.616459               43.469852         781.695419   \n",
       "\n",
       "   generator_temperature(°C)  ...  windmill_body_temperature(°C)  \\\n",
       "0                  76.665560  ...                            NaN   \n",
       "1                  78.129803  ...                            NaN   \n",
       "2                  67.654469  ...                      45.033197   \n",
       "3                  95.389974  ...                      44.827154   \n",
       "4                  37.423065  ...                     -99.000000   \n",
       "\n",
       "   wind_direction(°)  resistance(ohm)  rotor_torque(N-m)  turbine_status  \\\n",
       "0         239.836388      2730.310605          42.084666              BA   \n",
       "1         337.944723      1780.207200         107.888643              A2   \n",
       "2         227.850294      1666.049900         -42.931459             ABC   \n",
       "3         492.081520      1964.502895          42.744596             ABC   \n",
       "4         259.274601      1177.516152          13.387289             AAA   \n",
       "\n",
       "   cloud_level blade_length(m) blade_breadth(m)  windmill_height(m)  \\\n",
       "0       Medium        2.217542         0.314065           24.281689   \n",
       "1       Medium        4.210346         0.448494           27.262139   \n",
       "2       Medium        2.719475         0.302321           27.366127   \n",
       "3          NaN        4.857385         0.367140           24.287767   \n",
       "4       Medium             NaN         0.453374           27.971650   \n",
       "\n",
       "   windmill_generated_power(kW/h)  \n",
       "0                        6.766521  \n",
       "1                        5.966275  \n",
       "2                        2.874342  \n",
       "3                       14.851089  \n",
       "4                        3.519074  \n",
       "\n",
       "[5 rows x 22 columns]"
      ]
     },
     "execution_count": 64,
     "metadata": {},
     "output_type": "execute_result"
    }
   ],
   "source": [
    "dataset.head(5)"
   ]
  },
  {
   "cell_type": "code",
   "execution_count": 65,
   "metadata": {},
   "outputs": [
    {
     "data": {
      "text/plain": [
       "tracking_id                          0\n",
       "datetime                             0\n",
       "wind_speed(m/s)                    273\n",
       "atmospheric_temperature(°C)       3450\n",
       "shaft_temperature(°C)                2\n",
       "blades_angle(°)                    216\n",
       "gearbox_temperature(°C)              1\n",
       "engine_temperature(°C)              12\n",
       "motor_torque(N-m)                   24\n",
       "generator_temperature(°C)           12\n",
       "atmospheric_pressure(Pascal)      2707\n",
       "area_temperature(°C)                 0\n",
       "windmill_body_temperature(°C)     2363\n",
       "wind_direction(°)                 5103\n",
       "resistance(ohm)                      1\n",
       "rotor_torque(N-m)                  572\n",
       "turbine_status                    1759\n",
       "cloud_level                        276\n",
       "blade_length(m)                   5093\n",
       "blade_breadth(m)                     0\n",
       "windmill_height(m)                 543\n",
       "windmill_generated_power(kW/h)     207\n",
       "dtype: int64"
      ]
     },
     "execution_count": 65,
     "metadata": {},
     "output_type": "execute_result"
    }
   ],
   "source": [
    "dataset.isnull().sum()"
   ]
  },
  {
   "cell_type": "code",
   "execution_count": 66,
   "metadata": {},
   "outputs": [
    {
     "data": {
      "text/plain": [
       "tracking_id                        object\n",
       "datetime                           object\n",
       "wind_speed(m/s)                   float64\n",
       "atmospheric_temperature(°C)       float64\n",
       "shaft_temperature(°C)             float64\n",
       "blades_angle(°)                   float64\n",
       "gearbox_temperature(°C)           float64\n",
       "engine_temperature(°C)            float64\n",
       "motor_torque(N-m)                 float64\n",
       "generator_temperature(°C)         float64\n",
       "atmospheric_pressure(Pascal)      float64\n",
       "area_temperature(°C)              float64\n",
       "windmill_body_temperature(°C)     float64\n",
       "wind_direction(°)                 float64\n",
       "resistance(ohm)                   float64\n",
       "rotor_torque(N-m)                 float64\n",
       "turbine_status                     object\n",
       "cloud_level                        object\n",
       "blade_length(m)                   float64\n",
       "blade_breadth(m)                  float64\n",
       "windmill_height(m)                float64\n",
       "windmill_generated_power(kW/h)    float64\n",
       "dtype: object"
      ]
     },
     "execution_count": 66,
     "metadata": {},
     "output_type": "execute_result"
    }
   ],
   "source": [
    "dataset.dtypes"
   ]
  },
  {
   "cell_type": "markdown",
   "metadata": {},
   "source": [
    "### Preprocessing \n",
    "Here we preprocess the dataset and replace null values of float64 columns with mean values. \n",
    "Again we replace the null values in object dataset with NA."
   ]
  },
  {
   "cell_type": "code",
   "execution_count": 67,
   "metadata": {},
   "outputs": [],
   "source": [
    "#Replacing null value of float64 columns with mean\n",
    "dtype=dataset.dtypes\n",
    "col=dataset.columns\n",
    "for itr in range(len(dtype)):\n",
    "    if dtype[itr]==object:\n",
    "        continue\n",
    "    mean=dataset[col[itr]].mean()\n",
    "    dataset[col[itr]].fillna(mean,inplace=True)"
   ]
  },
  {
   "cell_type": "code",
   "execution_count": 68,
   "metadata": {},
   "outputs": [
    {
     "data": {
      "text/plain": [
       "tracking_id                          0\n",
       "datetime                             0\n",
       "wind_speed(m/s)                      0\n",
       "atmospheric_temperature(°C)          0\n",
       "shaft_temperature(°C)                0\n",
       "blades_angle(°)                      0\n",
       "gearbox_temperature(°C)              0\n",
       "engine_temperature(°C)               0\n",
       "motor_torque(N-m)                    0\n",
       "generator_temperature(°C)            0\n",
       "atmospheric_pressure(Pascal)         0\n",
       "area_temperature(°C)                 0\n",
       "windmill_body_temperature(°C)        0\n",
       "wind_direction(°)                    0\n",
       "resistance(ohm)                      0\n",
       "rotor_torque(N-m)                    0\n",
       "turbine_status                    1759\n",
       "cloud_level                        276\n",
       "blade_length(m)                      0\n",
       "blade_breadth(m)                     0\n",
       "windmill_height(m)                   0\n",
       "windmill_generated_power(kW/h)       0\n",
       "dtype: int64"
      ]
     },
     "execution_count": 68,
     "metadata": {},
     "output_type": "execute_result"
    }
   ],
   "source": [
    "dataset.isnull().sum()"
   ]
  },
  {
   "cell_type": "code",
   "execution_count": 69,
   "metadata": {},
   "outputs": [],
   "source": [
    "#Replacing attributes of object type with NA\n",
    "dataset[\"turbine_status\"].fillna(\"NA\",inplace=True)\n",
    "dataset[\"cloud_level\"].fillna(\"NA\",inplace=True)"
   ]
  },
  {
   "cell_type": "code",
   "execution_count": 70,
   "metadata": {},
   "outputs": [],
   "source": [
    "#Formatting datetime \n",
    "dataset[\"datetime\"]= pd.to_datetime(dataset['datetime'], format='%Y-%m-%d')"
   ]
  },
  {
   "cell_type": "code",
   "execution_count": 71,
   "metadata": {},
   "outputs": [],
   "source": [
    "dataset[\"datetime\"]=dataset[\"datetime\"].astype(str)"
   ]
  },
  {
   "cell_type": "code",
   "execution_count": 72,
   "metadata": {},
   "outputs": [],
   "source": [
    "#Label Encoding columns into one-hot encoding\n",
    "from sklearn.preprocessing import LabelEncoder\n",
    "le=LabelEncoder()\n",
    "dataset[\"turbine_status\"]=le.fit_transform(dataset[\"turbine_status\"])\n",
    "dataset[\"cloud_level\"]=le.fit_transform(dataset[\"cloud_level\"])\n",
    "dataset[\"datetime\"]=le.fit_transform(dataset[\"datetime\"])\n",
    "dataset[\"tracking_id\"]=le.fit_transform(dataset[\"tracking_id\"])"
   ]
  },
  {
   "cell_type": "code",
   "execution_count": 73,
   "metadata": {},
   "outputs": [],
   "source": [
    "#Extracting target columns\n",
    "target_col=dataset[\"windmill_generated_power(kW/h)\"]\n",
    "dataset.drop([\"windmill_generated_power(kW/h)\"],axis=1,inplace=True)"
   ]
  },
  {
   "cell_type": "markdown",
   "metadata": {},
   "source": [
    "### Model Selection\n",
    "Here we use Random Forest Regressor model to train the data (X,y) and then use it for predictions on our test dataset."
   ]
  },
  {
   "cell_type": "code",
   "execution_count": 49,
   "metadata": {},
   "outputs": [
    {
     "name": "stderr",
     "output_type": "stream",
     "text": [
      "/home/projjal/anaconda3/lib/python3.7/site-packages/sklearn/ensemble/forest.py:246: FutureWarning: The default value of n_estimators will change from 10 in version 0.20 to 100 in 0.22.\n",
      "  \"10 in version 0.20 to 100 in 0.22.\", FutureWarning)\n"
     ]
    },
    {
     "data": {
      "text/plain": [
       "RandomForestRegressor(bootstrap=True, criterion='mse', max_depth=None,\n",
       "           max_features='auto', max_leaf_nodes=None,\n",
       "           min_impurity_decrease=0.0, min_impurity_split=None,\n",
       "           min_samples_leaf=1, min_samples_split=2,\n",
       "           min_weight_fraction_leaf=0.0, n_estimators=10, n_jobs=None,\n",
       "           oob_score=False, random_state=None, verbose=0, warm_start=False)"
      ]
     },
     "execution_count": 49,
     "metadata": {},
     "output_type": "execute_result"
    }
   ],
   "source": [
    "from sklearn.ensemble import RandomForestRegressor\n",
    "model=RandomForestRegressor()\n",
    "model.fit(dataset.values,target_col.values)"
   ]
  },
  {
   "cell_type": "markdown",
   "metadata": {},
   "source": [
    "### Working on Test Dataset\n",
    "Now we extract data from our test dataset and perform all the operations on the dataset as stated above. "
   ]
  },
  {
   "cell_type": "code",
   "execution_count": 76,
   "metadata": {},
   "outputs": [],
   "source": [
    "test_dataset=dataset=pd.read_csv(\"dataset/test.csv\")"
   ]
  },
  {
   "cell_type": "code",
   "execution_count": 77,
   "metadata": {},
   "outputs": [],
   "source": [
    "df=test_dataset.copy()"
   ]
  },
  {
   "cell_type": "code",
   "execution_count": 78,
   "metadata": {},
   "outputs": [],
   "source": [
    "dtype=df.dtypes\n",
    "col=df.columns\n",
    "for itr in range(len(dtype)):\n",
    "    if dtype[itr]==object:\n",
    "        continue\n",
    "    mean=df[col[itr]].mean()\n",
    "    df[col[itr]].fillna(mean,inplace=True)"
   ]
  },
  {
   "cell_type": "code",
   "execution_count": 79,
   "metadata": {},
   "outputs": [],
   "source": [
    "df[\"datetime\"]= pd.to_datetime(df['datetime'], format='%Y-%m-%d')\n",
    "df[\"datetime\"]=df[\"datetime\"].astype(str)"
   ]
  },
  {
   "cell_type": "code",
   "execution_count": 80,
   "metadata": {},
   "outputs": [],
   "source": [
    "df[\"turbine_status\"].fillna(\"NA\",inplace=True)\n",
    "df[\"cloud_level\"].fillna(\"NA\",inplace=True)"
   ]
  },
  {
   "cell_type": "code",
   "execution_count": 81,
   "metadata": {},
   "outputs": [],
   "source": [
    "from sklearn.preprocessing import LabelEncoder\n",
    "le=LabelEncoder()\n",
    "df[\"turbine_status\"]=le.fit_transform(df[\"turbine_status\"])\n",
    "df[\"cloud_level\"]=le.fit_transform(df[\"cloud_level\"])\n",
    "df[\"datetime\"]=le.fit_transform(df[\"datetime\"])\n",
    "df[\"tracking_id\"]=le.fit_transform(df[\"tracking_id\"])"
   ]
  },
  {
   "cell_type": "markdown",
   "metadata": {},
   "source": [
    "### Predictions \n",
    "Here we use data from the processed test dataset and feed it to the model for performing the prediction task."
   ]
  },
  {
   "cell_type": "code",
   "execution_count": 82,
   "metadata": {},
   "outputs": [
    {
     "name": "stderr",
     "output_type": "stream",
     "text": [
      "/home/projjal/anaconda3/lib/python3.7/site-packages/xgboost/data.py:114: UserWarning: Use subset (sliced data) of np.ndarray is not recommended because it will generate extra copies and increase memory consumption\n",
      "  \"because it will generate extra copies and increase \" +\n"
     ]
    }
   ],
   "source": [
    "predictions=model.predict(df.values)"
   ]
  },
  {
   "cell_type": "markdown",
   "metadata": {},
   "source": [
    "### Exporting to DataFrame \n",
    "Here we frame our data into pandas DataFrame and export it to the .csv file."
   ]
  },
  {
   "cell_type": "code",
   "execution_count": 83,
   "metadata": {},
   "outputs": [],
   "source": [
    "result_frame=pd.DataFrame({\"tracking_id\":test_dataset[\"tracking_id\"],\"datetime\":test_dataset[\"datetime\"],\"windmill_generated_power(kW/h)\":pd.Series(predictions)})"
   ]
  },
  {
   "cell_type": "code",
   "execution_count": 84,
   "metadata": {},
   "outputs": [],
   "source": [
    "result_frame.to_csv(\"output.csv\",index=False)"
   ]
  }
 ],
 "metadata": {
  "kernelspec": {
   "display_name": "Python 3",
   "language": "python",
   "name": "python3"
  },
  "language_info": {
   "codemirror_mode": {
    "name": "ipython",
    "version": 3
   },
   "file_extension": ".py",
   "mimetype": "text/x-python",
   "name": "python",
   "nbconvert_exporter": "python",
   "pygments_lexer": "ipython3",
   "version": "3.7.3"
  }
 },
 "nbformat": 4,
 "nbformat_minor": 2
}
